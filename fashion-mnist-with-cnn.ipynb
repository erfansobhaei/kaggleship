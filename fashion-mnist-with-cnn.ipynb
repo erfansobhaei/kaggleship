{
 "cells": [
  {
   "cell_type": "markdown",
   "id": "c317af2a",
   "metadata": {
    "id": "7QoLlSiK-PzT",
    "papermill": {
     "duration": 0.020902,
     "end_time": "2022-02-21T07:36:43.923004",
     "exception": false,
     "start_time": "2022-02-21T07:36:43.902102",
     "status": "completed"
    },
    "tags": []
   },
   "source": [
    "# Fashion MNIST Classification using CNN Model"
   ]
  },
  {
   "cell_type": "markdown",
   "id": "6ef068b6",
   "metadata": {
    "id": "BYA4TbWE3P26",
    "papermill": {
     "duration": 0.029372,
     "end_time": "2022-02-21T07:36:43.986373",
     "exception": false,
     "start_time": "2022-02-21T07:36:43.957001",
     "status": "completed"
    },
    "tags": []
   },
   "source": [
    "# Prerequisites"
   ]
  },
  {
   "cell_type": "code",
   "execution_count": 1,
   "id": "110fb489",
   "metadata": {
    "execution": {
     "iopub.execute_input": "2022-02-21T07:36:44.051157Z",
     "iopub.status.busy": "2022-02-21T07:36:44.050182Z",
     "iopub.status.idle": "2022-02-21T07:36:49.350276Z",
     "shell.execute_reply": "2022-02-21T07:36:49.349646Z",
     "shell.execute_reply.started": "2022-02-21T07:33:10.059159Z"
    },
    "id": "baMpbTkJmnkg",
    "papermill": {
     "duration": 5.338434,
     "end_time": "2022-02-21T07:36:49.350434",
     "exception": false,
     "start_time": "2022-02-21T07:36:44.012000",
     "status": "completed"
    },
    "tags": []
   },
   "outputs": [],
   "source": [
    "import numpy as np\n",
    "import tensorflow as tf\n",
    "from tensorflow import keras\n",
    "from tensorflow.keras import layers\n",
    "import matplotlib.pyplot as plt"
   ]
  },
  {
   "cell_type": "markdown",
   "id": "90697c4b",
   "metadata": {
    "id": "O9wUBEb84Ypw",
    "papermill": {
     "duration": 0.018267,
     "end_time": "2022-02-21T07:36:49.387866",
     "exception": false,
     "start_time": "2022-02-21T07:36:49.369599",
     "status": "completed"
    },
    "tags": []
   },
   "source": [
    "# Data Loading and Preprocess"
   ]
  },
  {
   "cell_type": "code",
   "execution_count": 2,
   "id": "f488afd3",
   "metadata": {
    "execution": {
     "iopub.execute_input": "2022-02-21T07:36:49.429300Z",
     "iopub.status.busy": "2022-02-21T07:36:49.428490Z",
     "iopub.status.idle": "2022-02-21T07:36:50.184724Z",
     "shell.execute_reply": "2022-02-21T07:36:50.185431Z",
     "shell.execute_reply.started": "2022-02-21T07:33:10.069068Z"
    },
    "id": "FaHs20IQng_D",
    "outputId": "d02ba8f9-c5b3-459a-ff0a-6328473b91f3",
    "papermill": {
     "duration": 0.778645,
     "end_time": "2022-02-21T07:36:50.185588",
     "exception": false,
     "start_time": "2022-02-21T07:36:49.406943",
     "status": "completed"
    },
    "tags": []
   },
   "outputs": [
    {
     "name": "stdout",
     "output_type": "stream",
     "text": [
      "Downloading data from https://storage.googleapis.com/tensorflow/tf-keras-datasets/train-labels-idx1-ubyte.gz\n",
      "32768/29515 [=================================] - 0s 0us/step\n",
      "40960/29515 [=========================================] - 0s 0us/step\n",
      "Downloading data from https://storage.googleapis.com/tensorflow/tf-keras-datasets/train-images-idx3-ubyte.gz\n",
      "26427392/26421880 [==============================] - 0s 0us/step\n",
      "26435584/26421880 [==============================] - 0s 0us/step\n",
      "Downloading data from https://storage.googleapis.com/tensorflow/tf-keras-datasets/t10k-labels-idx1-ubyte.gz\n",
      "16384/5148 [===============================================================================================] - 0s 0us/step\n",
      "Downloading data from https://storage.googleapis.com/tensorflow/tf-keras-datasets/t10k-images-idx3-ubyte.gz\n",
      "4423680/4422102 [==============================] - 0s 0us/step\n",
      "4431872/4422102 [==============================] - 0s 0us/step\n",
      "Shape of X_train: (60000, 28, 28)\tShape of X_test: (10000, 28, 28)\n",
      "Shape of y_train: (60000,)\t\tShape of y_test: (10000,)\n"
     ]
    }
   ],
   "source": [
    "# Load and divide Fashion MNIST dataset\n",
    "(X_train, y_train), (X_test, y_test) = keras.datasets.fashion_mnist.load_data()\n",
    "\n",
    "print('Shape of X_train: {}\\tShape of X_test: {}'.format(X_train.shape, X_test.shape))\n",
    "print('Shape of y_train: {}\\t\\tShape of y_test: {}'.format(y_train.shape, y_test.shape))"
   ]
  },
  {
   "cell_type": "code",
   "execution_count": 3,
   "id": "dde35eaf",
   "metadata": {
    "execution": {
     "iopub.execute_input": "2022-02-21T07:36:52.536271Z",
     "iopub.status.busy": "2022-02-21T07:36:52.241552Z",
     "iopub.status.idle": "2022-02-21T07:36:52.728487Z",
     "shell.execute_reply": "2022-02-21T07:36:52.728033Z",
     "shell.execute_reply.started": "2022-02-21T07:33:10.480255Z"
    },
    "id": "T0T07aa5nt-B",
    "outputId": "e7c0b6af-894a-4487-f6cd-e753cec4a1e7",
    "papermill": {
     "duration": 2.518153,
     "end_time": "2022-02-21T07:36:52.728605",
     "exception": false,
     "start_time": "2022-02-21T07:36:50.210452",
     "status": "completed"
    },
    "tags": []
   },
   "outputs": [
    {
     "name": "stderr",
     "output_type": "stream",
     "text": [
      "2022-02-21 07:36:50.293702: I tensorflow/stream_executor/cuda/cuda_gpu_executor.cc:937] successful NUMA node read from SysFS had negative value (-1), but there must be at least one NUMA node, so returning NUMA node zero\n",
      "2022-02-21 07:36:50.391925: I tensorflow/stream_executor/cuda/cuda_gpu_executor.cc:937] successful NUMA node read from SysFS had negative value (-1), but there must be at least one NUMA node, so returning NUMA node zero\n",
      "2022-02-21 07:36:50.392646: I tensorflow/stream_executor/cuda/cuda_gpu_executor.cc:937] successful NUMA node read from SysFS had negative value (-1), but there must be at least one NUMA node, so returning NUMA node zero\n",
      "2022-02-21 07:36:50.395208: I tensorflow/core/platform/cpu_feature_guard.cc:142] This TensorFlow binary is optimized with oneAPI Deep Neural Network Library (oneDNN) to use the following CPU instructions in performance-critical operations:  AVX2 AVX512F FMA\n",
      "To enable them in other operations, rebuild TensorFlow with the appropriate compiler flags.\n",
      "2022-02-21 07:36:50.396198: I tensorflow/stream_executor/cuda/cuda_gpu_executor.cc:937] successful NUMA node read from SysFS had negative value (-1), but there must be at least one NUMA node, so returning NUMA node zero\n",
      "2022-02-21 07:36:50.396961: I tensorflow/stream_executor/cuda/cuda_gpu_executor.cc:937] successful NUMA node read from SysFS had negative value (-1), but there must be at least one NUMA node, so returning NUMA node zero\n",
      "2022-02-21 07:36:50.397641: I tensorflow/stream_executor/cuda/cuda_gpu_executor.cc:937] successful NUMA node read from SysFS had negative value (-1), but there must be at least one NUMA node, so returning NUMA node zero\n",
      "2022-02-21 07:36:52.232431: I tensorflow/stream_executor/cuda/cuda_gpu_executor.cc:937] successful NUMA node read from SysFS had negative value (-1), but there must be at least one NUMA node, so returning NUMA node zero\n",
      "2022-02-21 07:36:52.233275: I tensorflow/stream_executor/cuda/cuda_gpu_executor.cc:937] successful NUMA node read from SysFS had negative value (-1), but there must be at least one NUMA node, so returning NUMA node zero\n",
      "2022-02-21 07:36:52.233933: I tensorflow/stream_executor/cuda/cuda_gpu_executor.cc:937] successful NUMA node read from SysFS had negative value (-1), but there must be at least one NUMA node, so returning NUMA node zero\n",
      "2022-02-21 07:36:52.234520: I tensorflow/core/common_runtime/gpu/gpu_device.cc:1510] Created device /job:localhost/replica:0/task:0/device:GPU:0 with 15403 MB memory:  -> device: 0, name: Tesla P100-PCIE-16GB, pci bus id: 0000:00:04.0, compute capability: 6.0\n"
     ]
    },
    {
     "data": {
      "image/png": "[encoded data removed]",
      "text/plain": [
       "<Figure size 432x288 with 1 Axes>"
      ]
     },
     "metadata": {
      "needs_background": "light"
     },
     "output_type": "display_data"
    },
    {
     "data": {
      "text/plain": [
       "(28, 28)"
      ]
     },
     "execution_count": 3,
     "metadata": {},
     "output_type": "execute_result"
    }
   ],
   "source": [
    "# Generate a random number and use it as index\n",
    "rand_index = tf.random.uniform(shape=(), minval=1, maxval=60000, dtype=tf.int32)\n",
    "\n",
    "plt.imshow(X_train[rand_index])\n",
    "plt.title('Label: {}'.format(y_train[rand_index]))\n",
    "plt.show()\n",
    "X_train[rand_index].shape"
   ]
  },
  {
   "cell_type": "code",
   "execution_count": 4,
   "id": "8b5cbb88",
   "metadata": {
    "execution": {
     "iopub.execute_input": "2022-02-21T07:36:52.782809Z",
     "iopub.status.busy": "2022-02-21T07:36:52.782196Z",
     "iopub.status.idle": "2022-02-21T07:36:52.786553Z",
     "shell.execute_reply": "2022-02-21T07:36:52.786965Z",
     "shell.execute_reply.started": "2022-02-21T07:33:10.658388Z"
    },
    "id": "apPxd-VKtJL9",
    "outputId": "f1ecfa7f-9ce2-47a9-987f-0cd3808fd33e",
    "papermill": {
     "duration": 0.034477,
     "end_time": "2022-02-21T07:36:52.787100",
     "exception": false,
     "start_time": "2022-02-21T07:36:52.752623",
     "status": "completed"
    },
    "tags": []
   },
   "outputs": [
    {
     "name": "stdout",
     "output_type": "stream",
     "text": [
      "dtype = uint8\n",
      "min = 0\n",
      "max = 255\n",
      "range = 255\n"
     ]
    }
   ],
   "source": [
    "# Print some properties of X_train and X_test\n",
    "print('dtype =', X_train[rand_index].dtype)\n",
    "print('min =', X_train[rand_index].min())\n",
    "print('max =', X_train[rand_index].max())\n",
    "print('range =', X_train[rand_index].ptp())"
   ]
  },
  {
   "cell_type": "code",
   "execution_count": 5,
   "id": "5d9e414f",
   "metadata": {
    "execution": {
     "iopub.execute_input": "2022-02-21T07:36:52.844489Z",
     "iopub.status.busy": "2022-02-21T07:36:52.843399Z",
     "iopub.status.idle": "2022-02-21T07:36:52.964752Z",
     "shell.execute_reply": "2022-02-21T07:36:52.964097Z",
     "shell.execute_reply.started": "2022-02-21T07:33:10.668928Z"
    },
    "id": "xr4hPZottY1L",
    "papermill": {
     "duration": 0.153209,
     "end_time": "2022-02-21T07:36:52.964893",
     "exception": false,
     "start_time": "2022-02-21T07:36:52.811684",
     "status": "completed"
    },
    "tags": []
   },
   "outputs": [],
   "source": [
    "# Type casting to floating point \n",
    "X_train = X_train.astype('float32')\n",
    "X_test = X_test.astype('float32')\n",
    "\n",
    "# Scale the data\n",
    "X_train = X_train / 255\n",
    "X_test = X_test / 255"
   ]
  },
  {
   "cell_type": "code",
   "execution_count": 6,
   "id": "120b76ad",
   "metadata": {
    "execution": {
     "iopub.execute_input": "2022-02-21T07:36:53.021647Z",
     "iopub.status.busy": "2022-02-21T07:36:53.016299Z",
     "iopub.status.idle": "2022-02-21T07:36:53.046997Z",
     "shell.execute_reply": "2022-02-21T07:36:53.046563Z",
     "shell.execute_reply.started": "2022-02-21T07:33:10.796516Z"
    },
    "id": "vZ7IjS8cwhL9",
    "outputId": "a87303c6-ee03-4f1f-c551-dcead3ad86d9",
    "papermill": {
     "duration": 0.057519,
     "end_time": "2022-02-21T07:36:53.047110",
     "exception": false,
     "start_time": "2022-02-21T07:36:52.989591",
     "status": "completed"
    },
    "tags": []
   },
   "outputs": [
    {
     "name": "stdout",
     "output_type": "stream",
     "text": [
      "Label of sample #53068 is [1. 0. 0. 0. 0. 0. 0. 0. 0. 0.].\n"
     ]
    }
   ],
   "source": [
    "# Apply one hot encoder\n",
    "y_train = tf.one_hot(y_train, 10)\n",
    "\n",
    "print('Label of sample #{} is {}.'.format(\n",
    "    rand_index,\n",
    "    y_train[rand_index]\n",
    "))"
   ]
  },
  {
   "cell_type": "markdown",
   "id": "5e61c6f5",
   "metadata": {
    "id": "N6gDjRI34igk",
    "papermill": {
     "duration": 0.024214,
     "end_time": "2022-02-21T07:36:53.095765",
     "exception": false,
     "start_time": "2022-02-21T07:36:53.071551",
     "status": "completed"
    },
    "tags": []
   },
   "source": [
    "# Modeling "
   ]
  },
  {
   "cell_type": "markdown",
   "id": "ebf81e5e",
   "metadata": {
    "id": "l_yBsvAw4qa7",
    "papermill": {
     "duration": 0.024487,
     "end_time": "2022-02-21T07:36:53.144838",
     "exception": false,
     "start_time": "2022-02-21T07:36:53.120351",
     "status": "completed"
    },
    "tags": []
   },
   "source": [
    "## Custom Callback"
   ]
  },
  {
   "cell_type": "code",
   "execution_count": 7,
   "id": "a521e0a9",
   "metadata": {
    "execution": {
     "iopub.execute_input": "2022-02-21T07:36:53.201181Z",
     "iopub.status.busy": "2022-02-21T07:36:53.200423Z",
     "iopub.status.idle": "2022-02-21T07:36:53.202879Z",
     "shell.execute_reply": "2022-02-21T07:36:53.202451Z",
     "shell.execute_reply.started": "2022-02-21T07:33:10.806885Z"
    },
    "id": "QFBN0l79pKaL",
    "papermill": {
     "duration": 0.032836,
     "end_time": "2022-02-21T07:36:53.202984",
     "exception": false,
     "start_time": "2022-02-21T07:36:53.170148",
     "status": "completed"
    },
    "tags": []
   },
   "outputs": [],
   "source": [
    "# create class for custom callbacks\n",
    "class ThresholdCallback(keras.callbacks.Callback):\n",
    "    \"\"\"\n",
    "    Threshold Callback for keras.models\n",
    "\n",
    "    Parameters\n",
    "    ------------\n",
    "    point: float (between 0 and 1)\n",
    "    \"\"\"\n",
    "    def __init__(self, point):\n",
    "        super(ThresholdCallback, self).__init__()\n",
    "        # Threshhold for stop training process if it become reached\n",
    "        self.point = point\n",
    "\n",
    "    def on_batch_end(self, epoch, logs=None):\n",
    "        # Check for reaching specified point\n",
    "        if logs['accuracy'] >= self.point:\n",
    "            self.model.stop_training = True"
   ]
  },
  {
   "cell_type": "markdown",
   "id": "606ca993",
   "metadata": {
    "id": "8Aw7J1mG4uLH",
    "papermill": {
     "duration": 0.024805,
     "end_time": "2022-02-21T07:36:53.252783",
     "exception": false,
     "start_time": "2022-02-21T07:36:53.227978",
     "status": "completed"
    },
    "tags": []
   },
   "source": [
    "## CNN Model with RMSProp Optimizer"
   ]
  },
  {
   "cell_type": "code",
   "execution_count": 8,
   "id": "6d9e7403",
   "metadata": {
    "execution": {
     "iopub.execute_input": "2022-02-21T07:36:53.308425Z",
     "iopub.status.busy": "2022-02-21T07:36:53.307683Z",
     "iopub.status.idle": "2022-02-21T07:36:53.387648Z",
     "shell.execute_reply": "2022-02-21T07:36:53.387056Z",
     "shell.execute_reply.started": "2022-02-21T07:33:10.815322Z"
    },
    "id": "EA2Y15nUsn8b",
    "outputId": "a1b3b22b-2bf0-4850-e4b6-b99343943665",
    "papermill": {
     "duration": 0.11026,
     "end_time": "2022-02-21T07:36:53.387772",
     "exception": false,
     "start_time": "2022-02-21T07:36:53.277512",
     "status": "completed"
    },
    "tags": []
   },
   "outputs": [
    {
     "name": "stdout",
     "output_type": "stream",
     "text": [
      "Model: \"sequential\"\n",
      "_________________________________________________________________\n",
      "Layer (type)                 Output Shape              Param #   \n",
      "=================================================================\n",
      "conv2d (Conv2D)              (None, 26, 26, 64)        640       \n",
      "_________________________________________________________________\n",
      "max_pooling2d (MaxPooling2D) (None, 13, 13, 64)        0         \n",
      "_________________________________________________________________\n",
      "flatten (Flatten)            (None, 10816)             0         \n",
      "_________________________________________________________________\n",
      "dense (Dense)                (None, 100)               1081700   \n",
      "_________________________________________________________________\n",
      "dense_1 (Dense)              (None, 10)                1010      \n",
      "=================================================================\n",
      "Total params: 1,083,350\n",
      "Trainable params: 1,083,350\n",
      "Non-trainable params: 0\n",
      "_________________________________________________________________\n"
     ]
    }
   ],
   "source": [
    "# Define CNN model\n",
    "model = keras.models.Sequential(\n",
    "    [\n",
    "     layers.Conv2D(64, (3,3), activation='relu', input_shape=(28, 28, 1)),\n",
    "     layers.MaxPooling2D((2, 2)),\n",
    "     layers.Flatten(),\n",
    "     layers.Dense(100),\n",
    "     layers.Dense(10, activation='sigmoid')\n",
    "    ]\n",
    ")\n",
    "model.summary()"
   ]
  },
  {
   "cell_type": "code",
   "execution_count": 9,
   "id": "ae54ebcc",
   "metadata": {
    "execution": {
     "iopub.execute_input": "2022-02-21T07:36:53.445708Z",
     "iopub.status.busy": "2022-02-21T07:36:53.444918Z",
     "iopub.status.idle": "2022-02-21T07:36:53.451321Z",
     "shell.execute_reply": "2022-02-21T07:36:53.450787Z",
     "shell.execute_reply.started": "2022-02-21T07:33:10.855758Z"
    },
    "id": "yHPiazJFucyH",
    "papermill": {
     "duration": 0.038396,
     "end_time": "2022-02-21T07:36:53.451430",
     "exception": false,
     "start_time": "2022-02-21T07:36:53.413034",
     "status": "completed"
    },
    "tags": []
   },
   "outputs": [],
   "source": [
    "# Comile model\n",
    "model.compile(\n",
    "    optimizer='rmsprop',\n",
    "    loss='categorical_crossentropy',\n",
    "    metrics=['accuracy'],\n",
    ")"
   ]
  },
  {
   "cell_type": "code",
   "execution_count": 10,
   "id": "62a0faab",
   "metadata": {
    "execution": {
     "iopub.execute_input": "2022-02-21T07:36:53.508620Z",
     "iopub.status.busy": "2022-02-21T07:36:53.507998Z",
     "iopub.status.idle": "2022-02-21T07:37:06.545960Z",
     "shell.execute_reply": "2022-02-21T07:37:06.545497Z",
     "shell.execute_reply.started": "2022-02-21T07:33:10.867191Z"
    },
    "id": "FxHft3xau2C1",
    "outputId": "f7703a2e-dfb9-4c04-b3a0-e4d8ece00bfc",
    "papermill": {
     "duration": 13.069489,
     "end_time": "2022-02-21T07:37:06.546096",
     "exception": false,
     "start_time": "2022-02-21T07:36:53.476607",
     "status": "completed"
    },
    "tags": []
   },
   "outputs": [
    {
     "name": "stderr",
     "output_type": "stream",
     "text": [
      "2022-02-21 07:36:53.820262: I tensorflow/compiler/mlir/mlir_graph_optimization_pass.cc:185] None of the MLIR Optimization Passes are enabled (registered 2)\n"
     ]
    },
    {
     "name": "stdout",
     "output_type": "stream",
     "text": [
      "Epoch 1/10\n"
     ]
    },
    {
     "name": "stderr",
     "output_type": "stream",
     "text": [
      "2022-02-21 07:36:55.114798: I tensorflow/stream_executor/cuda/cuda_dnn.cc:369] Loaded cuDNN version 8005\n"
     ]
    },
    {
     "name": "stdout",
     "output_type": "stream",
     "text": [
      "750/750 [==============================] - 9s 4ms/step - loss: 0.4124 - accuracy: 0.8537 - val_loss: 0.3107 - val_accuracy: 0.8889\n",
      "Epoch 2/10\n",
      "750/750 [==============================] - 3s 3ms/step - loss: 0.2843 - accuracy: 0.8999 - val_loss: 0.2812 - val_accuracy: 0.9022\n",
      "Epoch 3/10\n",
      "750/750 [==============================] - 1s 852us/step - loss: 0.1331 - accuracy: 0.9531 - val_loss: 0.2785 - val_accuracy: 0.9013\n"
     ]
    }
   ],
   "source": [
    "# Justify dimension for model use\n",
    "X_train = np.expand_dims(X_train, axis=-1)\n",
    "\n",
    "# Fit model to data with cutstom callbacks\n",
    "history = model.fit(\n",
    "    X_train, y_train,\n",
    "    batch_size=64,\n",
    "    epochs=10,\n",
    "    callbacks=ThresholdCallback(0.95),\n",
    "    validation_split=0.2,\n",
    "    verbose=1\n",
    ")"
   ]
  },
  {
   "cell_type": "code",
   "execution_count": 11,
   "id": "06e1f5c0",
   "metadata": {
    "execution": {
     "iopub.execute_input": "2022-02-21T07:37:06.676251Z",
     "iopub.status.busy": "2022-02-21T07:37:06.675693Z",
     "iopub.status.idle": "2022-02-21T07:37:15.153217Z",
     "shell.execute_reply": "2022-02-21T07:37:15.153724Z",
     "shell.execute_reply.started": "2022-02-21T07:33:29.122802Z"
    },
    "id": "vbQNpMbqDNv8",
    "outputId": "558dd46d-4eb7-42c0-8131-b475ea50f373",
    "papermill": {
     "duration": 8.547483,
     "end_time": "2022-02-21T07:37:15.153900",
     "exception": false,
     "start_time": "2022-02-21T07:37:06.606417",
     "status": "completed"
    },
    "tags": []
   },
   "outputs": [
    {
     "data": {
      "image/png": "[encoded data removed]",
      "text/plain": [
       "<Figure size 1440x576 with 2 Axes>"
      ]
     },
     "metadata": {
      "needs_background": "light"
     },
     "output_type": "display_data"
    }
   ],
   "source": [
    "# Ploting accuracy values\n",
    "plt.figure(figsize=(20,8))\n",
    "plt.subplot(1, 2, 1)\n",
    "plt.plot(history.history['accuracy'])\n",
    "plt.plot(history.history['val_accuracy'])\n",
    "plt.title('Accuracy')\n",
    "plt.legend(['Train', 'Validation'])\n",
    "plt.xlabel('Epoch')\n",
    "\n",
    "# Ploting loss values\n",
    "plt.subplot(1, 2, 2)\n",
    "plt.plot(history.history['loss'])\n",
    "plt.plot(history.history['val_loss'])\n",
    "plt.title('Loss')\n",
    "plt.legend(['Train', 'Validation'])\n",
    "plt.xlabel('Epoch')\n",
    "\n",
    "plt.show()"
   ]
  },
  {
   "cell_type": "markdown",
   "id": "1ef6ee99",
   "metadata": {
    "id": "sGM1KFg44-Wp",
    "papermill": {
     "duration": 0.056909,
     "end_time": "2022-02-21T07:37:15.269557",
     "exception": false,
     "start_time": "2022-02-21T07:37:15.212648",
     "status": "completed"
    },
    "tags": []
   },
   "source": [
    "## CNN Model with Adam Optimizer"
   ]
  },
  {
   "cell_type": "code",
   "execution_count": 12,
   "id": "e2e06143",
   "metadata": {
    "execution": {
     "iopub.execute_input": "2022-02-21T07:37:15.394509Z",
     "iopub.status.busy": "2022-02-21T07:37:15.393655Z",
     "iopub.status.idle": "2022-02-21T07:37:15.423638Z",
     "shell.execute_reply": "2022-02-21T07:37:15.424209Z",
     "shell.execute_reply.started": "2022-02-21T07:33:29.442998Z"
    },
    "id": "EN1Lmuie5QHu",
    "outputId": "efa81915-bc40-49c4-8da6-b1709fe7325c",
    "papermill": {
     "duration": 0.098418,
     "end_time": "2022-02-21T07:37:15.424409",
     "exception": false,
     "start_time": "2022-02-21T07:37:15.325991",
     "status": "completed"
    },
    "tags": []
   },
   "outputs": [
    {
     "name": "stdout",
     "output_type": "stream",
     "text": [
      "Model: \"sequential_1\"\n",
      "_________________________________________________________________\n",
      "Layer (type)                 Output Shape              Param #   \n",
      "=================================================================\n",
      "conv2d_1 (Conv2D)            (None, 26, 26, 64)        640       \n",
      "_________________________________________________________________\n",
      "max_pooling2d_1 (MaxPooling2 (None, 13, 13, 64)        0         \n",
      "_________________________________________________________________\n",
      "flatten_1 (Flatten)          (None, 10816)             0         \n",
      "_________________________________________________________________\n",
      "dense_2 (Dense)              (None, 100)               1081700   \n",
      "_________________________________________________________________\n",
      "dense_3 (Dense)              (None, 10)                1010      \n",
      "=================================================================\n",
      "Total params: 1,083,350\n",
      "Trainable params: 1,083,350\n",
      "Non-trainable params: 0\n",
      "_________________________________________________________________\n"
     ]
    }
   ],
   "source": [
    "# Define CNN model\n",
    "model = keras.models.Sequential(\n",
    "    [\n",
    "     layers.Conv2D(64, (3,3), activation='relu', input_shape=(28, 28, 1)),\n",
    "     layers.MaxPooling2D((2, 2)),\n",
    "     layers.Flatten(),\n",
    "     layers.Dense(100),\n",
    "     layers.Dense(10, activation='sigmoid')\n",
    "    ]\n",
    ")\n",
    "model.summary()"
   ]
  },
  {
   "cell_type": "code",
   "execution_count": 13,
   "id": "39d80db3",
   "metadata": {
    "execution": {
     "iopub.execute_input": "2022-02-21T07:37:15.554292Z",
     "iopub.status.busy": "2022-02-21T07:37:15.553510Z",
     "iopub.status.idle": "2022-02-21T07:37:15.561735Z",
     "shell.execute_reply": "2022-02-21T07:37:15.561314Z",
     "shell.execute_reply.started": "2022-02-21T07:33:29.481637Z"
    },
    "id": "pjMg7DDK5QHv",
    "papermill": {
     "duration": 0.074816,
     "end_time": "2022-02-21T07:37:15.561856",
     "exception": false,
     "start_time": "2022-02-21T07:37:15.487040",
     "status": "completed"
    },
    "tags": []
   },
   "outputs": [],
   "source": [
    "# Comile model\n",
    "model.compile(\n",
    "    optimizer='adam',\n",
    "    loss='categorical_crossentropy',\n",
    "    metrics=['accuracy'],\n",
    ")"
   ]
  },
  {
   "cell_type": "code",
   "execution_count": 14,
   "id": "f45bc65b",
   "metadata": {
    "execution": {
     "iopub.execute_input": "2022-02-21T07:37:15.686114Z",
     "iopub.status.busy": "2022-02-21T07:37:15.685246Z",
     "iopub.status.idle": "2022-02-21T07:37:25.436435Z",
     "shell.execute_reply": "2022-02-21T07:37:25.435874Z",
     "shell.execute_reply.started": "2022-02-21T07:33:29.492226Z"
    },
    "id": "o3Cdxbac5QHw",
    "outputId": "08aee039-ddbb-4ebb-f109-6bf7907a9267",
    "papermill": {
     "duration": 9.816237,
     "end_time": "2022-02-21T07:37:25.436574",
     "exception": false,
     "start_time": "2022-02-21T07:37:15.620337",
     "status": "completed"
    },
    "tags": []
   },
   "outputs": [
    {
     "name": "stdout",
     "output_type": "stream",
     "text": [
      "Epoch 1/10\n",
      "750/750 [==============================] - 4s 5ms/step - loss: 0.4028 - accuracy: 0.8587 - val_loss: 0.3124 - val_accuracy: 0.8895\n",
      "Epoch 2/10\n",
      "750/750 [==============================] - 2s 3ms/step - loss: 0.2860 - accuracy: 0.8991 - val_loss: 0.2858 - val_accuracy: 0.8979\n",
      "Epoch 3/10\n",
      "750/750 [==============================] - 2s 3ms/step - loss: 0.2509 - accuracy: 0.9109 - val_loss: 0.2806 - val_accuracy: 0.9023\n",
      "Epoch 4/10\n",
      "750/750 [==============================] - 0s 547us/step - loss: 0.1027 - accuracy: 0.9531 - val_loss: 0.2901 - val_accuracy: 0.9007\n"
     ]
    }
   ],
   "source": [
    "# Fit model to data with cutstom callbacks\n",
    "history = model.fit(\n",
    "    X_train, y_train,\n",
    "    batch_size=64,\n",
    "    epochs=10,\n",
    "    callbacks=ThresholdCallback(0.95),\n",
    "    validation_split=0.2,\n",
    "    verbose=1\n",
    ")"
   ]
  },
  {
   "cell_type": "code",
   "execution_count": 15,
   "id": "6be50a83",
   "metadata": {
    "execution": {
     "iopub.execute_input": "2022-02-21T07:37:25.636659Z",
     "iopub.status.busy": "2022-02-21T07:37:25.635804Z",
     "iopub.status.idle": "2022-02-21T07:37:25.951819Z",
     "shell.execute_reply": "2022-02-21T07:37:25.952506Z",
     "shell.execute_reply.started": "2022-02-21T07:33:38.329770Z"
    },
    "id": "ePKP5btP5QHw",
    "outputId": "43935c9e-c01f-4190-d2ff-11819aea74ed",
    "papermill": {
     "duration": 0.420211,
     "end_time": "2022-02-21T07:37:25.952660",
     "exception": false,
     "start_time": "2022-02-21T07:37:25.532449",
     "status": "completed"
    },
    "tags": []
   },
   "outputs": [
    {
     "data": {
      "image/png": "[encoded data removed]",
      "text/plain": [
       "<Figure size 1440x576 with 2 Axes>"
      ]
     },
     "metadata": {
      "needs_background": "light"
     },
     "output_type": "display_data"
    }
   ],
   "source": [
    "# Ploting accuracy values\n",
    "plt.figure(figsize=(20,8))\n",
    "plt.subplot(1, 2, 1)\n",
    "plt.plot(history.history['accuracy'])\n",
    "plt.plot(history.history['val_accuracy'])\n",
    "plt.title('Accuracy')\n",
    "plt.legend(['Train', 'Validation'])\n",
    "plt.xlabel('Epoch')\n",
    "\n",
    "# Ploting loss values\n",
    "plt.subplot(1, 2, 2)\n",
    "plt.plot(history.history['loss'])\n",
    "plt.plot(history.history['val_loss'])\n",
    "plt.title('Loss')\n",
    "plt.legend(['Train', 'Validation'])\n",
    "plt.xlabel('Epoch')\n",
    "\n",
    "plt.show()"
   ]
  },
  {
   "cell_type": "markdown",
   "id": "de57c07b",
   "metadata": {
    "id": "uGdGCyWV8LcO",
    "papermill": {
     "duration": 0.097379,
     "end_time": "2022-02-21T07:37:26.148121",
     "exception": false,
     "start_time": "2022-02-21T07:37:26.050742",
     "status": "completed"
    },
    "tags": []
   },
   "source": [
    "As we can see in the above figures, model with Adam optimizer reached 0.95 accuracy sooner than RMSProp optimizer. On the other hand, the difference between train accuracy and validation accuracy is larger using Adam which could be a reason for tendention of this model to overfitting the training data."
   ]
  },
  {
   "cell_type": "markdown",
   "id": "88ba72b6",
   "metadata": {
    "id": "QOzqcb8K1eTY",
    "papermill": {
     "duration": 0.096491,
     "end_time": "2022-02-21T07:37:26.343644",
     "exception": false,
     "start_time": "2022-02-21T07:37:26.247153",
     "status": "completed"
    },
    "tags": []
   },
   "source": [
    "# Test Model"
   ]
  },
  {
   "cell_type": "code",
   "execution_count": 16,
   "id": "8f7c7a6a",
   "metadata": {
    "execution": {
     "iopub.execute_input": "2022-02-21T07:37:26.545384Z",
     "iopub.status.busy": "2022-02-21T07:37:26.544409Z",
     "iopub.status.idle": "2022-02-21T07:37:27.311577Z",
     "shell.execute_reply": "2022-02-21T07:37:27.310967Z",
     "shell.execute_reply.started": "2022-02-21T07:33:40.906093Z"
    },
    "id": "oAUGchck1iHM",
    "outputId": "53bc4d49-8b47-4c00-8bdf-9f38e751eb66",
    "papermill": {
     "duration": 0.871283,
     "end_time": "2022-02-21T07:37:27.311712",
     "exception": false,
     "start_time": "2022-02-21T07:37:26.440429",
     "status": "completed"
    },
    "tags": []
   },
   "outputs": [
    {
     "name": "stdout",
     "output_type": "stream",
     "text": [
      "Accuracy on test set: 0.8937\n"
     ]
    }
   ],
   "source": [
    "output = model.predict(np.expand_dims(X_test, axis=-1))\n",
    "preds = np.argmax(output, axis=1)\n",
    "\n",
    "print('Accuracy on test set: {}'.format(\n",
    "    np.sum(preds==y_test) / len(y_test)\n",
    "    )\n",
    ")"
   ]
  }
 ],
 "metadata": {
  "kernelspec": {
   "display_name": "Python 3",
   "language": "python",
   "name": "python3"
  },
  "language_info": {
   "codemirror_mode": {
    "name": "ipython",
    "version": 3
   },
   "file_extension": ".py",
   "mimetype": "text/x-python",
   "name": "python",
   "nbconvert_exporter": "python",
   "pygments_lexer": "ipython3",
   "version": "3.7.12"
  },
  "papermill": {
   "default_parameters": {},
   "duration": 55.400587,
   "end_time": "2022-02-21T07:37:31.209553",
   "environment_variables": {},
   "exception": null,
   "input_path": "__notebook__.ipynb",
   "output_path": "__notebook__.ipynb",
   "parameters": {},
   "start_time": "2022-02-21T07:36:35.808966",
   "version": "2.3.3"
  }
 },
 "nbformat": 4,
 "nbformat_minor": 5
}
